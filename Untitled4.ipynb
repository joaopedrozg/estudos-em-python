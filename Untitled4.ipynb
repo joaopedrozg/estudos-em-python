{
 "cells": [
  {
   "cell_type": "code",
   "execution_count": 6,
   "metadata": {},
   "outputs": [
    {
     "name": "stdout",
     "output_type": "stream",
     "text": [
      "Não existe uma palavra que começa com J\n"
     ]
    }
   ],
   "source": [
    "variavel = ['luiz otavio', 'joao', 'maria']\n",
    "comeca_com_j = False\n",
    "\n",
    "for valor in variavel:\n",
    "    if valor.startswith('J'):\n",
    "        comeca_com_j = True\n",
    "        \n",
    "if comeca_com_j:\n",
    "    print('existe uma palavra que começa com J')\n",
    "else:\n",
    "    print('Não existe uma palavra que começa com J')\n",
    "    "
   ]
  },
  {
   "cell_type": "code",
   "execution_count": null,
   "metadata": {},
   "outputs": [],
   "source": []
  },
  {
   "cell_type": "code",
   "execution_count": null,
   "metadata": {},
   "outputs": [],
   "source": []
  }
 ],
 "metadata": {
  "kernelspec": {
   "display_name": "Python 3",
   "language": "python",
   "name": "python3"
  },
  "language_info": {
   "codemirror_mode": {
    "name": "ipython",
    "version": 3
   },
   "file_extension": ".py",
   "mimetype": "text/x-python",
   "name": "python",
   "nbconvert_exporter": "python",
   "pygments_lexer": "ipython3",
   "version": "3.7.1"
  }
 },
 "nbformat": 4,
 "nbformat_minor": 2
}
