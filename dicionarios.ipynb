{
 "cells": [
  {
   "cell_type": "code",
   "execution_count": 1,
   "metadata": {},
   "outputs": [],
   "source": [
    "d1 = {'chave1':'Valor da chave'} #criação de dicionários em python"
   ]
  },
  {
   "cell_type": "code",
   "execution_count": 2,
   "metadata": {},
   "outputs": [
    {
     "name": "stdout",
     "output_type": "stream",
     "text": [
      "{'chave1': 'Valor da chave'}\n"
     ]
    }
   ],
   "source": [
    "print(d1)"
   ]
  },
  {
   "cell_type": "code",
   "execution_count": 3,
   "metadata": {},
   "outputs": [],
   "source": [
    "d1['nova_chave'] = 'Valor da nova chave' # adicionando chaves e valores ao dicionário"
   ]
  },
  {
   "cell_type": "code",
   "execution_count": 4,
   "metadata": {},
   "outputs": [
    {
     "name": "stdout",
     "output_type": "stream",
     "text": [
      "Valor da chave\n"
     ]
    }
   ],
   "source": [
    "print(d1['chave1'])"
   ]
  },
  {
   "cell_type": "code",
   "execution_count": 5,
   "metadata": {},
   "outputs": [
    {
     "name": "stdout",
     "output_type": "stream",
     "text": [
      "{'chave1': 'valor da chave', 'chave2': 'valor da outra chave'}\n"
     ]
    }
   ],
   "source": [
    "d2 = dict(chave1='valor da chave', chave2='valor da outra chave') # usando \"dict\" para criar um dicionário\n",
    "print(d2)"
   ]
  },
  {
   "cell_type": "code",
   "execution_count": 12,
   "metadata": {},
   "outputs": [
    {
     "name": "stdout",
     "output_type": "stream",
     "text": [
      "Tupla\n",
      "None\n",
      "{'str': 'valor', 123: 'Outro valor', (1, 2, 3, 4): 'Tupla', 'nova_chave': 'novo_valor'}\n"
     ]
    }
   ],
   "source": [
    "d3 ={\n",
    "    'str':'valor',\n",
    "    123:'Outro valor',\n",
    "    (1,2,3,4):'Tupla'\n",
    "}\n",
    "\n",
    "print(d3[(1,2,3,4)])\n",
    "if 'naoexiste' in d3:\n",
    "   print(d3['naoexiste'])\n",
    "\n",
    "print(d3.get('nomedachave'))\n",
    "\n",
    "\n",
    "d3.update({'nova_chave':'novo_valor'})\n",
    "print(d3)\n"
   ]
  },
  {
   "cell_type": "code",
   "execution_count": 19,
   "metadata": {},
   "outputs": [
    {
     "name": "stdout",
     "output_type": "stream",
     "text": [
      "True\n",
      "True\n"
     ]
    }
   ],
   "source": [
    "print('valor' in d3.values())\n",
    "print('str' in d3)"
   ]
  },
  {
   "cell_type": "code",
   "execution_count": null,
   "metadata": {},
   "outputs": [],
   "source": []
  }
 ],
 "metadata": {
  "kernelspec": {
   "display_name": "Python 3",
   "language": "python",
   "name": "python3"
  },
  "language_info": {
   "codemirror_mode": {
    "name": "ipython",
    "version": 3
   },
   "file_extension": ".py",
   "mimetype": "text/x-python",
   "name": "python",
   "nbconvert_exporter": "python",
   "pygments_lexer": "ipython3",
   "version": "3.7.1"
  }
 },
 "nbformat": 4,
 "nbformat_minor": 2
}
