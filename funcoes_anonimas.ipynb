{
 "cells": [
  {
   "cell_type": "code",
   "execution_count": 1,
   "metadata": {},
   "outputs": [],
   "source": [
    "def funcao(arg, arg2):\n",
    "    return arg * arg2"
   ]
  },
  {
   "cell_type": "code",
   "execution_count": 2,
   "metadata": {},
   "outputs": [],
   "source": [
    "var = funcao(2, 2)"
   ]
  },
  {
   "cell_type": "code",
   "execution_count": 3,
   "metadata": {},
   "outputs": [],
   "source": [
    "a = lambda x, y: x * y"
   ]
  },
  {
   "cell_type": "code",
   "execution_count": 4,
   "metadata": {},
   "outputs": [
    {
     "name": "stdout",
     "output_type": "stream",
     "text": [
      "4\n"
     ]
    }
   ],
   "source": [
    "print(a(2,2))"
   ]
  },
  {
   "cell_type": "code",
   "execution_count": 12,
   "metadata": {},
   "outputs": [
    {
     "name": "stdout",
     "output_type": "stream",
     "text": [
      "[['P4', 10], ['P1', 12], ['P2', 15], ['P6', 32], ['P5', 52], ['P3', 122]]\n",
      "[['P3', 122], ['P5', 52], ['P6', 32], ['P2', 15], ['P1', 12], ['P4', 10]]\n"
     ]
    }
   ],
   "source": [
    "lista =[\n",
    "    ['P1', 12],\n",
    "    ['P2', 15],\n",
    "    ['P3', 122],\n",
    "    ['P4', 10],\n",
    "    ['P5', 52],\n",
    "    ['P6', 32],\n",
    "    \n",
    "]\n",
    "\n",
    "\n",
    "lista.sort(key=lambda item:item[1], reverse=False)\n",
    "print(lista)\n",
    "\n",
    "print(sorted(lista, key=lambda i: i[1], reverse=True))"
   ]
  },
  {
   "cell_type": "code",
   "execution_count": null,
   "metadata": {},
   "outputs": [],
   "source": []
  }
 ],
 "metadata": {
  "kernelspec": {
   "display_name": "Python 3",
   "language": "python",
   "name": "python3"
  },
  "language_info": {
   "codemirror_mode": {
    "name": "ipython",
    "version": 3
   },
   "file_extension": ".py",
   "mimetype": "text/x-python",
   "name": "python",
   "nbconvert_exporter": "python",
   "pygments_lexer": "ipython3",
   "version": "3.7.1"
  }
 },
 "nbformat": 4,
 "nbformat_minor": 2
}
