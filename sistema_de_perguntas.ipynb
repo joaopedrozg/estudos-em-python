{
 "cells": [
  {
   "cell_type": "code",
   "execution_count": 1,
   "metadata": {},
   "outputs": [
    {
     "name": "stdout",
     "output_type": "stream",
     "text": [
      "\n",
      "Digite a letra conforme sua resposta.\n"
     ]
    }
   ],
   "source": [
    "print()\n",
    "print('Digite a letra conforme sua resposta.')"
   ]
  },
  {
   "cell_type": "code",
   "execution_count": 2,
   "metadata": {},
   "outputs": [],
   "source": [
    "# Cria o dicionário com as perguntas e as respostas\n",
    "perguntas = {\n",
    "    'Pergunta 1': {\n",
    "        'pergunta':'Quanto é 2+2?',\n",
    "        'respostas':{'a':'1', 'b':'4', 'c':'5'},\n",
    "        'resposta_certa':'b',\n",
    "        },\n",
    "    'Pergunta 2': {\n",
    "        'pergunta':'Quanto é 2*3?',\n",
    "        'respostas':{'a':'10', 'b':'14', 'c':'6'},\n",
    "        'resposta_certa':'c',\n",
    "        },\n",
    "    \n",
    "}"
   ]
  },
  {
   "cell_type": "code",
   "execution_count": 3,
   "metadata": {},
   "outputs": [
    {
     "name": "stdout",
     "output_type": "stream",
     "text": [
      "\n"
     ]
    }
   ],
   "source": [
    "print()"
   ]
  },
  {
   "cell_type": "code",
   "execution_count": 11,
   "metadata": {},
   "outputs": [
    {
     "name": "stdout",
     "output_type": "stream",
     "text": [
      "Pergunta 1: Quanto é 2+2?\n",
      "Respostas: \n",
      "[a]: 1\n",
      "[b]: 4\n",
      "[c]: 5\n"
     ]
    },
    {
     "name": "stdin",
     "output_type": "stream",
     "text": [
      "sua resposta:  b\n"
     ]
    },
    {
     "name": "stdout",
     "output_type": "stream",
     "text": [
      "EHHHHHHHH!!! Você acertouuuuuu :)\n",
      "\n",
      "Você acertou 1 respostas\n",
      "Sua porcentagem de acerto foi de 100.0%\n"
     ]
    }
   ],
   "source": [
    "# Contador de respostas certas\n",
    "respostas_certas = 0 \n",
    "# Itera o dicionário \"perguntas\" e retorna o chave pk e o valor pv\n",
    "for pk, pv in perguntas.items():\n",
    "    print(f'{pk}: {pv[\"pergunta\"]}')\n",
    "    print('Respostas: ')\n",
    "# Itera os dicionários e retornas as chaves rk e os valores rv\n",
    "    for rk, rv in pv['respostas'].items():\n",
    "          print(f'[{rk}]: {rv}')\n",
    "# Captura a resposta do usuário          \n",
    "    resposta_usuario = input('sua resposta: ')\n",
    "# Compara a resposta do usuário com o valor da chave \"resposta_certa\"\n",
    "    if resposta_usuario == pv['resposta_certa']:\n",
    "          print('EHHHHHHHH!!! Você acertouuuuuu :)')\n",
    "          respostas_certas += 1\n",
    "    else:\n",
    "          print('IXIIIIIII!!! Você errrouuuuu! :(')\n",
    "          \n",
    "    print()\n",
    "# Pega a quantidade de perguntas dentro do dicionário perguntas e calcula porcentagem em relação a quantidade de respostas certas         \n",
    "quant_perguntas = len(perguntas)\n",
    "porcentagem_acerto = respostas_certas / quant_perguntas * 100\n",
    "print(f'Você acertou {respostas_certas} respostas')\n",
    "print(f'Sua porcentagem de acerto foi de {porcentagem_acerto}%')\n",
    "        "
   ]
  },
  {
   "cell_type": "code",
   "execution_count": null,
   "metadata": {},
   "outputs": [],
   "source": []
  }
 ],
 "metadata": {
  "kernelspec": {
   "display_name": "Python 3",
   "language": "python",
   "name": "python3"
  },
  "language_info": {
   "codemirror_mode": {
    "name": "ipython",
    "version": 3
   },
   "file_extension": ".py",
   "mimetype": "text/x-python",
   "name": "python",
   "nbconvert_exporter": "python",
   "pygments_lexer": "ipython3",
   "version": "3.7.1"
  }
 },
 "nbformat": 4,
 "nbformat_minor": 2
}
